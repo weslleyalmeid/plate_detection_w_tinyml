{
 "cells": [
  {
   "cell_type": "markdown",
   "metadata": {},
   "source": [
    "## Consolidação dos experimentos"
   ]
  },
  {
   "cell_type": "code",
   "execution_count": 26,
   "metadata": {},
   "outputs": [],
   "source": [
    "import pandas as pd\n",
    "import matplotlib.pyplot as plt\n",
    "import os\n",
    "import seaborn as sns\n",
    "import numpy as np"
   ]
  },
  {
   "cell_type": "code",
   "execution_count": 27,
   "metadata": {},
   "outputs": [],
   "source": [
    "ROOT_DIR = os.path.abspath('.')\n",
    "MODELS_DIR = os.path.join(ROOT_DIR, 'models')\n",
    "CUSTOM_MODEL = os.path.join(MODELS_DIR, 'experiments', 'dynamic_range_quantization.tflite')\n",
    "# IMAGE_DIR =  os.path.join(ROOT_DIR, 'custom_dataset')\n",
    "IMAGE_DIR =  os.path.join(ROOT_DIR, 'test')\n"
   ]
  },
  {
   "cell_type": "markdown",
   "metadata": {},
   "source": [
    "### Carregar arquivos"
   ]
  },
  {
   "cell_type": "code",
   "execution_count": 28,
   "metadata": {},
   "outputs": [
    {
     "data": {
      "text/html": [
       "<div>\n",
       "<style scoped>\n",
       "    .dataframe tbody tr th:only-of-type {\n",
       "        vertical-align: middle;\n",
       "    }\n",
       "\n",
       "    .dataframe tbody tr th {\n",
       "        vertical-align: top;\n",
       "    }\n",
       "\n",
       "    .dataframe thead th {\n",
       "        text-align: right;\n",
       "    }\n",
       "</style>\n",
       "<table border=\"1\" class=\"dataframe\">\n",
       "  <thead>\n",
       "    <tr style=\"text-align: right;\">\n",
       "      <th></th>\n",
       "      <th>file</th>\n",
       "      <th>modelo</th>\n",
       "      <th>time</th>\n",
       "      <th>score</th>\n",
       "      <th>model_size</th>\n",
       "      <th>language</th>\n",
       "    </tr>\n",
       "  </thead>\n",
       "  <tbody>\n",
       "    <tr>\n",
       "      <th>0</th>\n",
       "      <td>KJD-0885.jpg</td>\n",
       "      <td>original</td>\n",
       "      <td>0.232664</td>\n",
       "      <td>0.792455</td>\n",
       "      <td>11497428</td>\n",
       "      <td>py</td>\n",
       "    </tr>\n",
       "    <tr>\n",
       "      <th>1</th>\n",
       "      <td>LBS-2737.jpg</td>\n",
       "      <td>original</td>\n",
       "      <td>0.210868</td>\n",
       "      <td>0.830200</td>\n",
       "      <td>11497428</td>\n",
       "      <td>py</td>\n",
       "    </tr>\n",
       "    <tr>\n",
       "      <th>2</th>\n",
       "      <td>IMG_0387.jpg</td>\n",
       "      <td>original</td>\n",
       "      <td>0.210606</td>\n",
       "      <td>0.831097</td>\n",
       "      <td>11497428</td>\n",
       "      <td>py</td>\n",
       "    </tr>\n",
       "    <tr>\n",
       "      <th>3</th>\n",
       "      <td>CYU-8900.jpg</td>\n",
       "      <td>original</td>\n",
       "      <td>0.210240</td>\n",
       "      <td>0.799787</td>\n",
       "      <td>11497428</td>\n",
       "      <td>py</td>\n",
       "    </tr>\n",
       "    <tr>\n",
       "      <th>4</th>\n",
       "      <td>JID-9361.jpg</td>\n",
       "      <td>original</td>\n",
       "      <td>0.209584</td>\n",
       "      <td>0.799481</td>\n",
       "      <td>11497428</td>\n",
       "      <td>py</td>\n",
       "    </tr>\n",
       "  </tbody>\n",
       "</table>\n",
       "</div>"
      ],
      "text/plain": [
       "           file    modelo      time     score  model_size language\n",
       "0  KJD-0885.jpg  original  0.232664  0.792455    11497428       py\n",
       "1  LBS-2737.jpg  original  0.210868  0.830200    11497428       py\n",
       "2  IMG_0387.jpg  original  0.210606  0.831097    11497428       py\n",
       "3  CYU-8900.jpg  original  0.210240  0.799787    11497428       py\n",
       "4  JID-9361.jpg  original  0.209584  0.799481    11497428       py"
      ]
     },
     "execution_count": 28,
     "metadata": {},
     "output_type": "execute_result"
    }
   ],
   "source": [
    "df_py = pd.read_csv(os.path.join(ROOT_DIR, 'experiments.csv'))\n",
    "df_py['language'] = 'py'\n",
    "df_py.head()"
   ]
  },
  {
   "cell_type": "code",
   "execution_count": 31,
   "metadata": {},
   "outputs": [
    {
     "data": {
      "text/html": [
       "<div>\n",
       "<style scoped>\n",
       "    .dataframe tbody tr th:only-of-type {\n",
       "        vertical-align: middle;\n",
       "    }\n",
       "\n",
       "    .dataframe tbody tr th {\n",
       "        vertical-align: top;\n",
       "    }\n",
       "\n",
       "    .dataframe thead th {\n",
       "        text-align: right;\n",
       "    }\n",
       "</style>\n",
       "<table border=\"1\" class=\"dataframe\">\n",
       "  <thead>\n",
       "    <tr style=\"text-align: right;\">\n",
       "      <th></th>\n",
       "      <th>file</th>\n",
       "      <th>modelo</th>\n",
       "      <th>time</th>\n",
       "      <th>score</th>\n",
       "      <th>language</th>\n",
       "    </tr>\n",
       "  </thead>\n",
       "  <tbody>\n",
       "    <tr>\n",
       "      <th>0</th>\n",
       "      <td>Cars424.png</td>\n",
       "      <td>original</td>\n",
       "      <td>0.240</td>\n",
       "      <td>0.557576</td>\n",
       "      <td>cc</td>\n",
       "    </tr>\n",
       "    <tr>\n",
       "      <th>1</th>\n",
       "      <td>KJD-0885.jpg</td>\n",
       "      <td>original</td>\n",
       "      <td>0.213</td>\n",
       "      <td>0.815457</td>\n",
       "      <td>cc</td>\n",
       "    </tr>\n",
       "    <tr>\n",
       "      <th>2</th>\n",
       "      <td>Cars426.png</td>\n",
       "      <td>original</td>\n",
       "      <td>0.213</td>\n",
       "      <td>0.724777</td>\n",
       "      <td>cc</td>\n",
       "    </tr>\n",
       "    <tr>\n",
       "      <th>3</th>\n",
       "      <td>Cars414.png</td>\n",
       "      <td>original</td>\n",
       "      <td>0.213</td>\n",
       "      <td>0.078145</td>\n",
       "      <td>cc</td>\n",
       "    </tr>\n",
       "    <tr>\n",
       "      <th>4</th>\n",
       "      <td>Cars427.png</td>\n",
       "      <td>original</td>\n",
       "      <td>0.212</td>\n",
       "      <td>0.068553</td>\n",
       "      <td>cc</td>\n",
       "    </tr>\n",
       "  </tbody>\n",
       "</table>\n",
       "</div>"
      ],
      "text/plain": [
       "           file    modelo   time     score language\n",
       "0   Cars424.png  original  0.240  0.557576       cc\n",
       "1  KJD-0885.jpg  original  0.213  0.815457       cc\n",
       "2   Cars426.png  original  0.213  0.724777       cc\n",
       "3   Cars414.png  original  0.213  0.078145       cc\n",
       "4   Cars427.png  original  0.212  0.068553       cc"
      ]
     },
     "execution_count": 31,
     "metadata": {},
     "output_type": "execute_result"
    }
   ],
   "source": [
    "df_cc = pd.read_csv(os.path.join(ROOT_DIR, 'experiments_cc.csv'))\n",
    "df_cc = df_cc.loc[df_cc['modelo'] != 'full_int8']\n",
    "df_cc['language'] = 'cc'\n",
    "df_cc['time'] = df_cc['time']/1000\n",
    "df_cc.head()"
   ]
  },
  {
   "cell_type": "markdown",
   "metadata": {},
   "source": [
    "Tipos de modelos quantizados"
   ]
  },
  {
   "cell_type": "code",
   "execution_count": 32,
   "metadata": {},
   "outputs": [
    {
     "name": "stdout",
     "output_type": "stream",
     "text": [
      "['original' 'integer_only' 'dynamic' 'full_integer' 'float16']\n",
      "['original' 'integer_only' 'dynamic' 'full_integer' 'float16']\n"
     ]
    }
   ],
   "source": [
    "print(df_py['modelo'].unique())\n",
    "print(df_cc['modelo'].unique())"
   ]
  },
  {
   "cell_type": "markdown",
   "metadata": {},
   "source": [
    "### Tamanho dos modelos quantizados"
   ]
  },
  {
   "cell_type": "code",
   "execution_count": 10,
   "metadata": {},
   "outputs": [],
   "source": [
    "import glob\n",
    "ROOT_DIR = os.path.abspath('.')\n",
    "MODELS_DIR = os.path.join(ROOT_DIR, 'models')\n",
    "models = glob.glob(os.path.join(MODELS_DIR, 'experiments', '*.tflite'))"
   ]
  },
  {
   "cell_type": "code",
   "execution_count": 33,
   "metadata": {},
   "outputs": [
    {
     "data": {
      "text/plain": [
       "{'integer_only': 3.74,\n",
       " 'float16': 5.83,\n",
       " 'full_integer': 3.74,\n",
       " 'original': 11.5,\n",
       " 'dynamic': 3.18}"
      ]
     },
     "execution_count": 33,
     "metadata": {},
     "output_type": "execute_result"
    }
   ],
   "source": [
    "import os\n",
    "\n",
    "size_model = {}\n",
    "\n",
    "for model in models:\n",
    "    name = model.split('/')[-1].split('.')[0]\n",
    "    size_model[name] = round(os.path.getsize(model)/1000000, 2)\n",
    "\n",
    "size_model"
   ]
  },
  {
   "cell_type": "code",
   "execution_count": 34,
   "metadata": {},
   "outputs": [],
   "source": [
    "df_py['size'] = df_py['modelo'].map(size_model)\n",
    "df_py['perc_size'] = round(df_py['size'] / df_py['size'].max(),3) * 100\n",
    "\n",
    "\n",
    "df_cc['size'] = df_cc['modelo'].map(size_model)\n",
    "df_cc['perc_size'] = round(df_cc['size'] / df_cc['size'].max(),3) * 100"
   ]
  },
  {
   "cell_type": "code",
   "execution_count": 58,
   "metadata": {},
   "outputs": [
    {
     "data": {
      "image/png": "[encoded data removed]",
      "text/plain": [
       "<Figure size 1800x800 with 2 Axes>"
      ]
     },
     "metadata": {},
     "output_type": "display_data"
    }
   ],
   "source": [
    "fig, ax = plt.subplots(nrows=1, ncols=2, figsize=(18,8))\n",
    "\n",
    "g1 = sns.barplot(data=df_cc.sort_values(by=['size'], ascending=False), x='modelo', y='size', palette='binary_r', ax=ax[0])\n",
    "g1.set_xlabel('Tipos de quantização')\n",
    "g1.set_ylabel('Tamanho (MB)')\n",
    "g1.set_title('Gráfico do tamanho dos modelos')\n",
    "\n",
    "# Plot 2\n",
    "g2 = sns.barplot(data=df_cc.sort_values(by=['perc_size'], ascending=False), x='modelo', y='perc_size', palette='binary_r', ax=ax[1])\n",
    "g2.set_xlabel('Tipos de quantização')\n",
    "g2.set_ylabel('Tamanho Percentual')\n",
    "g2.set_title('Gráfico das diferenças percentuais do tamanho dos modelos');\n",
    "\n",
    "fig.savefig(fname='figuras/diff_size.png', dpi=300)"
   ]
  },
  {
   "cell_type": "markdown",
   "metadata": {},
   "source": [
    "### Tempo de inferencia Python"
   ]
  },
  {
   "cell_type": "code",
   "execution_count": 62,
   "metadata": {},
   "outputs": [
    {
     "data": {
      "text/html": [
       "<div>\n",
       "<style scoped>\n",
       "    .dataframe tbody tr th:only-of-type {\n",
       "        vertical-align: middle;\n",
       "    }\n",
       "\n",
       "    .dataframe tbody tr th {\n",
       "        vertical-align: top;\n",
       "    }\n",
       "\n",
       "    .dataframe thead th {\n",
       "        text-align: right;\n",
       "    }\n",
       "</style>\n",
       "<table border=\"1\" class=\"dataframe\">\n",
       "  <thead>\n",
       "    <tr style=\"text-align: right;\">\n",
       "      <th></th>\n",
       "      <th>modelo</th>\n",
       "      <th>time</th>\n",
       "    </tr>\n",
       "  </thead>\n",
       "  <tbody>\n",
       "    <tr>\n",
       "      <th>0</th>\n",
       "      <td>dynamic</td>\n",
       "      <td>0.229566</td>\n",
       "    </tr>\n",
       "    <tr>\n",
       "      <th>4</th>\n",
       "      <td>original</td>\n",
       "      <td>0.210925</td>\n",
       "    </tr>\n",
       "    <tr>\n",
       "      <th>1</th>\n",
       "      <td>float16</td>\n",
       "      <td>0.209948</td>\n",
       "    </tr>\n",
       "    <tr>\n",
       "      <th>2</th>\n",
       "      <td>full_integer</td>\n",
       "      <td>0.166281</td>\n",
       "    </tr>\n",
       "    <tr>\n",
       "      <th>3</th>\n",
       "      <td>integer_only</td>\n",
       "      <td>0.165417</td>\n",
       "    </tr>\n",
       "  </tbody>\n",
       "</table>\n",
       "</div>"
      ],
      "text/plain": [
       "         modelo      time\n",
       "0       dynamic  0.229566\n",
       "4      original  0.210925\n",
       "1       float16  0.209948\n",
       "2  full_integer  0.166281\n",
       "3  integer_only  0.165417"
      ]
     },
     "execution_count": 62,
     "metadata": {},
     "output_type": "execute_result"
    }
   ],
   "source": [
    "df_py.groupby(['modelo'], as_index=False).agg({'time':'mean'}).sort_values(by=['time'], ascending=False)"
   ]
  },
  {
   "cell_type": "code",
   "execution_count": 36,
   "metadata": {},
   "outputs": [],
   "source": [
    "df_time = round(1 - (df_py.groupby(['modelo']).agg({'time':'mean'}) / df_py.groupby(['modelo']).agg({'time':'mean'}).max()), 3) * 100\n",
    "df_time = df_time.reset_index()"
   ]
  },
  {
   "cell_type": "code",
   "execution_count": 59,
   "metadata": {},
   "outputs": [
    {
     "data": {
      "image/png": "[encoded data removed]",
      "text/plain": [
       "<Figure size 1800x800 with 2 Axes>"
      ]
     },
     "metadata": {},
     "output_type": "display_data"
    }
   ],
   "source": [
    "fig, ax = plt.subplots(nrows=1, ncols=2, figsize=(18,8))\n",
    "\n",
    "g1 = sns.barplot(data=df_py.groupby(['modelo'], as_index=False).agg({'time':'mean'}).sort_values(by=['time'], ascending=False), x='modelo', y='time', palette='binary_r', ax=ax[0])\n",
    "g1.set_xlabel('Tipos de quantização')\n",
    "g1.set_ylabel('Tempo de inferência (s)')\n",
    "g1.set_title('Gráfico de tempo de inferência')\n",
    "\n",
    "# Plot 2\n",
    "g2 = sns.barplot(data=df_time.sort_values(by=['time'], ascending=False), x='modelo', y='time', palette='binary_r', ax=ax[1])\n",
    "g2.set_xlabel('Tipos de quantização')\n",
    "g2.set_ylabel('Eficiência de tempo percentual')\n",
    "g2.set_title('Gráfico de eficiência de tempo de inferência percentual')\n",
    "\n",
    "fig.savefig(fname='figuras/diff_time.png', dpi=300);"
   ]
  },
  {
   "cell_type": "markdown",
   "metadata": {},
   "source": [
    "### Tempo de inferencia C++"
   ]
  },
  {
   "cell_type": "code",
   "execution_count": 63,
   "metadata": {},
   "outputs": [
    {
     "data": {
      "text/html": [
       "<div>\n",
       "<style scoped>\n",
       "    .dataframe tbody tr th:only-of-type {\n",
       "        vertical-align: middle;\n",
       "    }\n",
       "\n",
       "    .dataframe tbody tr th {\n",
       "        vertical-align: top;\n",
       "    }\n",
       "\n",
       "    .dataframe thead th {\n",
       "        text-align: right;\n",
       "    }\n",
       "</style>\n",
       "<table border=\"1\" class=\"dataframe\">\n",
       "  <thead>\n",
       "    <tr style=\"text-align: right;\">\n",
       "      <th></th>\n",
       "      <th>modelo</th>\n",
       "      <th>time</th>\n",
       "    </tr>\n",
       "  </thead>\n",
       "  <tbody>\n",
       "    <tr>\n",
       "      <th>1</th>\n",
       "      <td>float16</td>\n",
       "      <td>0.21516</td>\n",
       "    </tr>\n",
       "    <tr>\n",
       "      <th>4</th>\n",
       "      <td>original</td>\n",
       "      <td>0.21370</td>\n",
       "    </tr>\n",
       "    <tr>\n",
       "      <th>0</th>\n",
       "      <td>dynamic</td>\n",
       "      <td>0.16764</td>\n",
       "    </tr>\n",
       "    <tr>\n",
       "      <th>3</th>\n",
       "      <td>integer_only</td>\n",
       "      <td>0.07094</td>\n",
       "    </tr>\n",
       "    <tr>\n",
       "      <th>2</th>\n",
       "      <td>full_integer</td>\n",
       "      <td>0.07016</td>\n",
       "    </tr>\n",
       "  </tbody>\n",
       "</table>\n",
       "</div>"
      ],
      "text/plain": [
       "         modelo     time\n",
       "1       float16  0.21516\n",
       "4      original  0.21370\n",
       "0       dynamic  0.16764\n",
       "3  integer_only  0.07094\n",
       "2  full_integer  0.07016"
      ]
     },
     "execution_count": 63,
     "metadata": {},
     "output_type": "execute_result"
    }
   ],
   "source": [
    "df_cc.groupby(['modelo'], as_index=False).agg({'time':'mean'}).sort_values(by=['time'], ascending=False)"
   ]
  },
  {
   "cell_type": "code",
   "execution_count": 38,
   "metadata": {},
   "outputs": [
    {
     "data": {
      "text/html": [
       "<div>\n",
       "<style scoped>\n",
       "    .dataframe tbody tr th:only-of-type {\n",
       "        vertical-align: middle;\n",
       "    }\n",
       "\n",
       "    .dataframe tbody tr th {\n",
       "        vertical-align: top;\n",
       "    }\n",
       "\n",
       "    .dataframe thead th {\n",
       "        text-align: right;\n",
       "    }\n",
       "</style>\n",
       "<table border=\"1\" class=\"dataframe\">\n",
       "  <thead>\n",
       "    <tr style=\"text-align: right;\">\n",
       "      <th></th>\n",
       "      <th>modelo</th>\n",
       "      <th>time</th>\n",
       "    </tr>\n",
       "  </thead>\n",
       "  <tbody>\n",
       "    <tr>\n",
       "      <th>0</th>\n",
       "      <td>dynamic</td>\n",
       "      <td>22.1</td>\n",
       "    </tr>\n",
       "    <tr>\n",
       "      <th>1</th>\n",
       "      <td>float16</td>\n",
       "      <td>0.0</td>\n",
       "    </tr>\n",
       "    <tr>\n",
       "      <th>2</th>\n",
       "      <td>full_integer</td>\n",
       "      <td>67.4</td>\n",
       "    </tr>\n",
       "    <tr>\n",
       "      <th>3</th>\n",
       "      <td>integer_only</td>\n",
       "      <td>67.0</td>\n",
       "    </tr>\n",
       "    <tr>\n",
       "      <th>4</th>\n",
       "      <td>original</td>\n",
       "      <td>0.7</td>\n",
       "    </tr>\n",
       "  </tbody>\n",
       "</table>\n",
       "</div>"
      ],
      "text/plain": [
       "         modelo  time\n",
       "0       dynamic  22.1\n",
       "1       float16   0.0\n",
       "2  full_integer  67.4\n",
       "3  integer_only  67.0\n",
       "4      original   0.7"
      ]
     },
     "execution_count": 38,
     "metadata": {},
     "output_type": "execute_result"
    }
   ],
   "source": [
    "df_time_cc = round(1 - (df_cc.groupby(['modelo']).agg({'time':'mean'}) / df_cc.groupby(['modelo']).agg({'time':'mean'}).max()), 3) * 100\n",
    "df_time_cc = df_time_cc.reset_index()\n",
    "df_time_cc"
   ]
  },
  {
   "cell_type": "code",
   "execution_count": 60,
   "metadata": {},
   "outputs": [
    {
     "data": {
      "image/png": "[encoded data removed]",
      "text/plain": [
       "<Figure size 1800x800 with 2 Axes>"
      ]
     },
     "metadata": {},
     "output_type": "display_data"
    }
   ],
   "source": [
    "fig, ax = plt.subplots(nrows=1, ncols=2, figsize=(18,8))\n",
    "\n",
    "g1 = sns.barplot(data=df_cc.groupby(['modelo'], as_index=False).agg({'time':'mean'}).sort_values(by=['time'], ascending=False), x='modelo', y='time', palette='binary_r', ax=ax[0])\n",
    "g1.set_xlabel('Tipos de quantização')\n",
    "g1.set_ylabel('Tempo de inferência (s)')\n",
    "g1.set_title('Gráfico de tempo de inferência')\n",
    "\n",
    "# Plot 2\n",
    "g2 = sns.barplot(data=df_time_cc.sort_values(by=['time'], ascending=False), x='modelo', y='time', palette='binary_r', ax=ax[1])\n",
    "g2.set_xlabel('Tipos de quantização')\n",
    "g2.set_ylabel('Eficiência de tempo percentual')\n",
    "g2.set_title('Gráfico de eficiência de tempo de inferência percentual')\n",
    "\n",
    "fig.savefig(fname='figuras/diff_time_cc.png', dpi=300);"
   ]
  },
  {
   "cell_type": "markdown",
   "metadata": {},
   "source": [
    "### Comparar eficiência"
   ]
  },
  {
   "cell_type": "code",
   "execution_count": 40,
   "metadata": {},
   "outputs": [],
   "source": [
    "df_all = pd.concat([df_py.loc[df_py['modelo'] != 'full_int8'], df_cc], ignore_index=True)"
   ]
  },
  {
   "cell_type": "code",
   "execution_count": 41,
   "metadata": {},
   "outputs": [
    {
     "data": {
      "text/html": [
       "<div>\n",
       "<style scoped>\n",
       "    .dataframe tbody tr th:only-of-type {\n",
       "        vertical-align: middle;\n",
       "    }\n",
       "\n",
       "    .dataframe tbody tr th {\n",
       "        vertical-align: top;\n",
       "    }\n",
       "\n",
       "    .dataframe thead th {\n",
       "        text-align: right;\n",
       "    }\n",
       "</style>\n",
       "<table border=\"1\" class=\"dataframe\">\n",
       "  <thead>\n",
       "    <tr style=\"text-align: right;\">\n",
       "      <th></th>\n",
       "      <th>file</th>\n",
       "      <th>modelo</th>\n",
       "      <th>time</th>\n",
       "      <th>score</th>\n",
       "      <th>model_size</th>\n",
       "      <th>language</th>\n",
       "      <th>size</th>\n",
       "      <th>perc_size</th>\n",
       "    </tr>\n",
       "  </thead>\n",
       "  <tbody>\n",
       "    <tr>\n",
       "      <th>0</th>\n",
       "      <td>KJD-0885.jpg</td>\n",
       "      <td>original</td>\n",
       "      <td>0.232664</td>\n",
       "      <td>0.792455</td>\n",
       "      <td>11497428.0</td>\n",
       "      <td>py</td>\n",
       "      <td>11.50</td>\n",
       "      <td>100.0</td>\n",
       "    </tr>\n",
       "    <tr>\n",
       "      <th>1</th>\n",
       "      <td>LBS-2737.jpg</td>\n",
       "      <td>original</td>\n",
       "      <td>0.210868</td>\n",
       "      <td>0.830200</td>\n",
       "      <td>11497428.0</td>\n",
       "      <td>py</td>\n",
       "      <td>11.50</td>\n",
       "      <td>100.0</td>\n",
       "    </tr>\n",
       "    <tr>\n",
       "      <th>2</th>\n",
       "      <td>IMG_0387.jpg</td>\n",
       "      <td>original</td>\n",
       "      <td>0.210606</td>\n",
       "      <td>0.831097</td>\n",
       "      <td>11497428.0</td>\n",
       "      <td>py</td>\n",
       "      <td>11.50</td>\n",
       "      <td>100.0</td>\n",
       "    </tr>\n",
       "    <tr>\n",
       "      <th>3</th>\n",
       "      <td>CYU-8900.jpg</td>\n",
       "      <td>original</td>\n",
       "      <td>0.210240</td>\n",
       "      <td>0.799787</td>\n",
       "      <td>11497428.0</td>\n",
       "      <td>py</td>\n",
       "      <td>11.50</td>\n",
       "      <td>100.0</td>\n",
       "    </tr>\n",
       "    <tr>\n",
       "      <th>4</th>\n",
       "      <td>JID-9361.jpg</td>\n",
       "      <td>original</td>\n",
       "      <td>0.209584</td>\n",
       "      <td>0.799481</td>\n",
       "      <td>11497428.0</td>\n",
       "      <td>py</td>\n",
       "      <td>11.50</td>\n",
       "      <td>100.0</td>\n",
       "    </tr>\n",
       "    <tr>\n",
       "      <th>...</th>\n",
       "      <td>...</td>\n",
       "      <td>...</td>\n",
       "      <td>...</td>\n",
       "      <td>...</td>\n",
       "      <td>...</td>\n",
       "      <td>...</td>\n",
       "      <td>...</td>\n",
       "      <td>...</td>\n",
       "    </tr>\n",
       "    <tr>\n",
       "      <th>495</th>\n",
       "      <td>KZD-5187.jpg</td>\n",
       "      <td>float16</td>\n",
       "      <td>0.215000</td>\n",
       "      <td>0.829752</td>\n",
       "      <td>NaN</td>\n",
       "      <td>cc</td>\n",
       "      <td>5.83</td>\n",
       "      <td>50.7</td>\n",
       "    </tr>\n",
       "    <tr>\n",
       "      <th>496</th>\n",
       "      <td>IMG_0467.jpg</td>\n",
       "      <td>float16</td>\n",
       "      <td>0.214000</td>\n",
       "      <td>0.712107</td>\n",
       "      <td>NaN</td>\n",
       "      <td>cc</td>\n",
       "      <td>5.83</td>\n",
       "      <td>50.7</td>\n",
       "    </tr>\n",
       "    <tr>\n",
       "      <th>497</th>\n",
       "      <td>IMG_0470.jpg</td>\n",
       "      <td>float16</td>\n",
       "      <td>0.219000</td>\n",
       "      <td>0.842269</td>\n",
       "      <td>NaN</td>\n",
       "      <td>cc</td>\n",
       "      <td>5.83</td>\n",
       "      <td>50.7</td>\n",
       "    </tr>\n",
       "    <tr>\n",
       "      <th>498</th>\n",
       "      <td>Cars406.png</td>\n",
       "      <td>float16</td>\n",
       "      <td>0.214000</td>\n",
       "      <td>0.884496</td>\n",
       "      <td>NaN</td>\n",
       "      <td>cc</td>\n",
       "      <td>5.83</td>\n",
       "      <td>50.7</td>\n",
       "    </tr>\n",
       "    <tr>\n",
       "      <th>499</th>\n",
       "      <td>Cars403.png</td>\n",
       "      <td>float16</td>\n",
       "      <td>0.214000</td>\n",
       "      <td>0.338023</td>\n",
       "      <td>NaN</td>\n",
       "      <td>cc</td>\n",
       "      <td>5.83</td>\n",
       "      <td>50.7</td>\n",
       "    </tr>\n",
       "  </tbody>\n",
       "</table>\n",
       "<p>500 rows × 8 columns</p>\n",
       "</div>"
      ],
      "text/plain": [
       "             file    modelo      time     score  model_size language   size  \\\n",
       "0    KJD-0885.jpg  original  0.232664  0.792455  11497428.0       py  11.50   \n",
       "1    LBS-2737.jpg  original  0.210868  0.830200  11497428.0       py  11.50   \n",
       "2    IMG_0387.jpg  original  0.210606  0.831097  11497428.0       py  11.50   \n",
       "3    CYU-8900.jpg  original  0.210240  0.799787  11497428.0       py  11.50   \n",
       "4    JID-9361.jpg  original  0.209584  0.799481  11497428.0       py  11.50   \n",
       "..            ...       ...       ...       ...         ...      ...    ...   \n",
       "495  KZD-5187.jpg   float16  0.215000  0.829752         NaN       cc   5.83   \n",
       "496  IMG_0467.jpg   float16  0.214000  0.712107         NaN       cc   5.83   \n",
       "497  IMG_0470.jpg   float16  0.219000  0.842269         NaN       cc   5.83   \n",
       "498   Cars406.png   float16  0.214000  0.884496         NaN       cc   5.83   \n",
       "499   Cars403.png   float16  0.214000  0.338023         NaN       cc   5.83   \n",
       "\n",
       "     perc_size  \n",
       "0        100.0  \n",
       "1        100.0  \n",
       "2        100.0  \n",
       "3        100.0  \n",
       "4        100.0  \n",
       "..         ...  \n",
       "495       50.7  \n",
       "496       50.7  \n",
       "497       50.7  \n",
       "498       50.7  \n",
       "499       50.7  \n",
       "\n",
       "[500 rows x 8 columns]"
      ]
     },
     "execution_count": 41,
     "metadata": {},
     "output_type": "execute_result"
    }
   ],
   "source": [
    "df_all"
   ]
  },
  {
   "cell_type": "code",
   "execution_count": 61,
   "metadata": {},
   "outputs": [
    {
     "data": {
      "image/png": "[encoded data removed]",
      "text/plain": [
       "<Figure size 1200x800 with 1 Axes>"
      ]
     },
     "metadata": {},
     "output_type": "display_data"
    }
   ],
   "source": [
    "fig = plt.figure(figsize=(12,8))\n",
    "g1 = sns.barplot(data=df_all.groupby(['modelo', 'language'], as_index=False).agg({'time':'mean'}).sort_values(by=['time'], ascending=False), x='modelo', y='time', palette='binary_r', hue='language')\n",
    "g1.set_xlabel('Tipos de quantização')\n",
    "g1.set_ylabel('Tempo de inferência (s)')\n",
    "# g1.set_title('Gráfico comparativo do tempo de inferência entre Python e C++')\n",
    "fig.savefig(fname='figuras/comparativo.png', dpi=300);"
   ]
  },
  {
   "cell_type": "markdown",
   "metadata": {},
   "source": [
    "### Score Python"
   ]
  },
  {
   "cell_type": "code",
   "execution_count": 56,
   "metadata": {},
   "outputs": [
    {
     "data": {
      "text/html": [
       "<div>\n",
       "<style scoped>\n",
       "    .dataframe tbody tr th:only-of-type {\n",
       "        vertical-align: middle;\n",
       "    }\n",
       "\n",
       "    .dataframe tbody tr th {\n",
       "        vertical-align: top;\n",
       "    }\n",
       "\n",
       "    .dataframe thead th {\n",
       "        text-align: right;\n",
       "    }\n",
       "</style>\n",
       "<table border=\"1\" class=\"dataframe\">\n",
       "  <thead>\n",
       "    <tr style=\"text-align: right;\">\n",
       "      <th></th>\n",
       "      <th></th>\n",
       "      <th>score</th>\n",
       "    </tr>\n",
       "    <tr>\n",
       "      <th>modelo</th>\n",
       "      <th>language</th>\n",
       "      <th></th>\n",
       "    </tr>\n",
       "  </thead>\n",
       "  <tbody>\n",
       "    <tr>\n",
       "      <th>dynamic</th>\n",
       "      <th>py</th>\n",
       "      <td>0.7246</td>\n",
       "    </tr>\n",
       "    <tr>\n",
       "      <th>float16</th>\n",
       "      <th>py</th>\n",
       "      <td>0.7231</td>\n",
       "    </tr>\n",
       "    <tr>\n",
       "      <th>full_integer</th>\n",
       "      <th>py</th>\n",
       "      <td>0.7227</td>\n",
       "    </tr>\n",
       "    <tr>\n",
       "      <th>integer_only</th>\n",
       "      <th>py</th>\n",
       "      <td>0.5208</td>\n",
       "    </tr>\n",
       "    <tr>\n",
       "      <th>original</th>\n",
       "      <th>py</th>\n",
       "      <td>0.7228</td>\n",
       "    </tr>\n",
       "  </tbody>\n",
       "</table>\n",
       "</div>"
      ],
      "text/plain": [
       "                        score\n",
       "modelo       language        \n",
       "dynamic      py        0.7246\n",
       "float16      py        0.7231\n",
       "full_integer py        0.7227\n",
       "integer_only py        0.5208\n",
       "original     py        0.7228"
      ]
     },
     "execution_count": 56,
     "metadata": {},
     "output_type": "execute_result"
    }
   ],
   "source": [
    "df_py.groupby(['modelo', 'language']).agg({'score':'median'}).round(4)"
   ]
  },
  {
   "cell_type": "code",
   "execution_count": 57,
   "metadata": {},
   "outputs": [
    {
     "data": {
      "text/html": [
       "<div>\n",
       "<style scoped>\n",
       "    .dataframe tbody tr th:only-of-type {\n",
       "        vertical-align: middle;\n",
       "    }\n",
       "\n",
       "    .dataframe tbody tr th {\n",
       "        vertical-align: top;\n",
       "    }\n",
       "\n",
       "    .dataframe thead th {\n",
       "        text-align: right;\n",
       "    }\n",
       "</style>\n",
       "<table border=\"1\" class=\"dataframe\">\n",
       "  <thead>\n",
       "    <tr style=\"text-align: right;\">\n",
       "      <th></th>\n",
       "      <th></th>\n",
       "      <th>score</th>\n",
       "    </tr>\n",
       "    <tr>\n",
       "      <th>modelo</th>\n",
       "      <th>language</th>\n",
       "      <th></th>\n",
       "    </tr>\n",
       "  </thead>\n",
       "  <tbody>\n",
       "    <tr>\n",
       "      <th>dynamic</th>\n",
       "      <th>cc</th>\n",
       "      <td>0.7238</td>\n",
       "    </tr>\n",
       "    <tr>\n",
       "      <th>float16</th>\n",
       "      <th>cc</th>\n",
       "      <td>0.7224</td>\n",
       "    </tr>\n",
       "    <tr>\n",
       "      <th>full_integer</th>\n",
       "      <th>cc</th>\n",
       "      <td>0.0664</td>\n",
       "    </tr>\n",
       "    <tr>\n",
       "      <th>integer_only</th>\n",
       "      <th>cc</th>\n",
       "      <td>-0.0000</td>\n",
       "    </tr>\n",
       "    <tr>\n",
       "      <th>original</th>\n",
       "      <th>cc</th>\n",
       "      <td>0.7228</td>\n",
       "    </tr>\n",
       "  </tbody>\n",
       "</table>\n",
       "</div>"
      ],
      "text/plain": [
       "                        score\n",
       "modelo       language        \n",
       "dynamic      cc        0.7238\n",
       "float16      cc        0.7224\n",
       "full_integer cc        0.0664\n",
       "integer_only cc       -0.0000\n",
       "original     cc        0.7228"
      ]
     },
     "execution_count": 57,
     "metadata": {},
     "output_type": "execute_result"
    }
   ],
   "source": [
    "df_cc.groupby(['modelo', 'language']).agg({'score':'median'}).round(4)"
   ]
  },
  {
   "cell_type": "code",
   "execution_count": null,
   "metadata": {},
   "outputs": [],
   "source": []
  }
 ],
 "metadata": {
  "kernelspec": {
   "display_name": "Python 3.8.13 ('venv_tflite')",
   "language": "python",
   "name": "python3"
  },
  "language_info": {
   "codemirror_mode": {
    "name": "ipython",
    "version": 3
   },
   "file_extension": ".py",
   "mimetype": "text/x-python",
   "name": "python",
   "nbconvert_exporter": "python",
   "pygments_lexer": "ipython3",
   "version": "3.8.13"
  },
  "orig_nbformat": 4,
  "vscode": {
   "interpreter": {
    "hash": "922f725d99fe936347526d54a645693d380b41c42f56b1794e14c308733e1e37"
   }
  }
 },
 "nbformat": 4,
 "nbformat_minor": 2
}
