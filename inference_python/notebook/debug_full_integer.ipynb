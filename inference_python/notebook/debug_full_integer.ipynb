{
 "cells": [
  {
   "cell_type": "code",
   "execution_count": 1,
   "metadata": {},
   "outputs": [
    {
     "name": "stderr",
     "output_type": "stream",
     "text": [
      "2022-11-27 17:13:43.003512: W tensorflow/stream_executor/platform/default/dso_loader.cc:64] Could not load dynamic library 'libcudart.so.11.0'; dlerror: libcudart.so.11.0: cannot open shared object file: No such file or directory\n",
      "2022-11-27 17:13:43.003624: I tensorflow/stream_executor/cuda/cudart_stub.cc:29] Ignore above cudart dlerror if you do not have a GPU set up on your machine.\n"
     ]
    }
   ],
   "source": [
    "import pandas as pd\n",
    "import matplotlib.pyplot as plt\n",
    "import os\n",
    "import seaborn as sns\n",
    "import numpy as np\n",
    "import tensorflow as tf\n",
    "from pprint import pprint\n",
    "import cv2"
   ]
  },
  {
   "cell_type": "code",
   "execution_count": 2,
   "metadata": {},
   "outputs": [],
   "source": [
    "ROOT_DIR = os.path.abspath('.')\n",
    "MODELS_DIR = os.path.join(ROOT_DIR, 'models')\n",
    "CUSTOM_MODEL = os.path.join(MODELS_DIR, 'experiments', 'full_integer.tflite')\n",
    "# IMAGE_DIR =  os.path.join(ROOT_DIR, 'custom_dataset')\n",
    "IMAGE_DIR =  os.path.join(ROOT_DIR, 'test')\n"
   ]
  },
  {
   "cell_type": "code",
   "execution_count": 3,
   "metadata": {},
   "outputs": [
    {
     "name": "stdout",
     "output_type": "stream",
     "text": [
      "{'dtype': <class 'numpy.float32'>,\n",
      " 'index': 0,\n",
      " 'name': 'serving_default_input:0',\n",
      " 'quantization': (0.0, 0),\n",
      " 'quantization_parameters': {'quantized_dimension': 0,\n",
      "                             'scales': array([], dtype=float32),\n",
      "                             'zero_points': array([], dtype=int32)},\n",
      " 'shape': array([  1, 320, 320,   3], dtype=int32),\n",
      " 'shape_signature': array([  1, 320, 320,   3], dtype=int32),\n",
      " 'sparsity_parameters': {}}\n",
      "{'dtype': <class 'numpy.float32'>,\n",
      " 'index': 383,\n",
      " 'name': 'StatefulPartitionedCall:1',\n",
      " 'quantization': (0.0, 0),\n",
      " 'quantization_parameters': {'quantized_dimension': 0,\n",
      "                             'scales': array([], dtype=float32),\n",
      "                             'zero_points': array([], dtype=int32)},\n",
      " 'shape': array([ 1, 10], dtype=int32),\n",
      " 'shape_signature': array([ 1, 10], dtype=int32),\n",
      " 'sparsity_parameters': {}}\n"
     ]
    }
   ],
   "source": [
    "interpreter = tf.lite.Interpreter(CUSTOM_MODEL)\n",
    "interpreter.allocate_tensors()\n",
    "\n",
    "input_details = interpreter.get_input_details()[0]\n",
    "output_details = interpreter.get_output_details()[0]\n",
    "pprint(input_details)\n",
    "pprint(output_details)"
   ]
  },
  {
   "cell_type": "code",
   "execution_count": 4,
   "metadata": {},
   "outputs": [
    {
     "data": {
      "text/plain": [
       "array([[[ 92,  88,  86],\n",
       "        [197, 184, 170],\n",
       "        [252, 235, 212],\n",
       "        ...,\n",
       "        [179, 193, 193],\n",
       "        [179, 191, 190],\n",
       "        [173, 183, 182]],\n",
       "\n",
       "       [[ 71,  68,  66],\n",
       "        [187, 174, 159],\n",
       "        [252, 236, 212],\n",
       "        ...,\n",
       "        [178, 190, 190],\n",
       "        [179, 189, 188],\n",
       "        [176, 187, 183]],\n",
       "\n",
       "       [[ 74,  70,  68],\n",
       "        [186, 173, 159],\n",
       "        [249, 231, 207],\n",
       "        ...,\n",
       "        [177, 189, 188],\n",
       "        [176, 185, 183],\n",
       "        [175, 184, 181]],\n",
       "\n",
       "       ...,\n",
       "\n",
       "       [[ 93,  93,  93],\n",
       "        [ 73,  73,  73],\n",
       "        [ 99,  99,  99],\n",
       "        ...,\n",
       "        [162, 141, 119],\n",
       "        [185, 159, 136],\n",
       "        [180, 152, 128]],\n",
       "\n",
       "       [[105, 105, 105],\n",
       "        [ 64,  64,  64],\n",
       "        [ 96,  96,  96],\n",
       "        ...,\n",
       "        [161, 140, 119],\n",
       "        [172, 148, 125],\n",
       "        [199, 171, 147]],\n",
       "\n",
       "       [[ 72,  72,  72],\n",
       "        [ 99,  99,  99],\n",
       "        [ 87,  87,  87],\n",
       "        ...,\n",
       "        [143, 122, 101],\n",
       "        [157, 134, 110],\n",
       "        [169, 143, 118]]], dtype=uint8)"
      ]
     },
     "execution_count": 4,
     "metadata": {},
     "output_type": "execute_result"
    }
   ],
   "source": [
    "img = cv2.imread(os.path.join(IMAGE_DIR, 'DSQ-6618 (2).jpg'))\n",
    "_, input_height, input_width, _ = interpreter.get_input_details()[0]['shape']\n",
    "img = cv2.resize(cv2.cvtColor(img, cv2.COLOR_BGR2RGB), (input_width, input_height))\n",
    "test_image = np.array(img)\n",
    "test_image"
   ]
  },
  {
   "cell_type": "code",
   "execution_count": 5,
   "metadata": {},
   "outputs": [
    {
     "data": {
      "text/plain": [
       "0.8046875"
      ]
     },
     "execution_count": 5,
     "metadata": {},
     "output_type": "execute_result"
    }
   ],
   "source": [
    "def set_input_tensor(interpreter, image):\n",
    "    \"\"\"Sets the input tensor.\"\"\"\n",
    "    tensor_index = interpreter.get_input_details()[0]['index']\n",
    "    input_tensor = interpreter.tensor(tensor_index)()[0]\n",
    "    input_tensor[:, :] = np.expand_dims((image-255)/255, axis=0)\n",
    "\n",
    "\n",
    "def get_output_tensor(interpreter, index):\n",
    "    \"\"\"Returns the output tensor at the given index.\"\"\"\n",
    "    output_details = interpreter.get_output_details()[index]\n",
    "    tensor = np.squeeze(interpreter.get_tensor(output_details['index']))\n",
    "    return tensor\n",
    "\n",
    "\n",
    "set_input_tensor(interpreter, test_image)\n",
    "interpreter.invoke()\n",
    "boxes = get_output_tensor(interpreter, 1)\n",
    "classes = get_output_tensor(interpreter, 3)\n",
    "scores = get_output_tensor(interpreter, 0)\n",
    "count = int(get_output_tensor(interpreter, 2))\n",
    "\n",
    "scores[scores.argmax()]"
   ]
  }
 ],
 "metadata": {
  "kernelspec": {
   "display_name": "Python 3.8.13 ('venv_tflite')",
   "language": "python",
   "name": "python3"
  },
  "language_info": {
   "codemirror_mode": {
    "name": "ipython",
    "version": 3
   },
   "file_extension": ".py",
   "mimetype": "text/x-python",
   "name": "python",
   "nbconvert_exporter": "python",
   "pygments_lexer": "ipython3",
   "version": "3.8.13"
  },
  "orig_nbformat": 4,
  "vscode": {
   "interpreter": {
    "hash": "922f725d99fe936347526d54a645693d380b41c42f56b1794e14c308733e1e37"
   }
  }
 },
 "nbformat": 4,
 "nbformat_minor": 2
}
